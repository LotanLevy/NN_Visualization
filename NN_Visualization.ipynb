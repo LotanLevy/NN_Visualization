{
  "nbformat": 4,
  "nbformat_minor": 0,
  "metadata": {
    "colab": {
      "name": "Untitled0.ipynb",
      "provenance": [],
      "include_colab_link": true
    },
    "kernelspec": {
      "name": "python3",
      "display_name": "Python 3"
    },
    "accelerator": "GPU"
  },
  "cells": [
    {
      "cell_type": "markdown",
      "metadata": {
        "id": "view-in-github",
        "colab_type": "text"
      },
      "source": [
        "<a href=\"https://colab.research.google.com/github/LotanLevy/NN_Visualization/blob/master/NN_Visualization.ipynb\" target=\"_parent\"><img src=\"https://colab.research.google.com/assets/colab-badge.svg\" alt=\"Open In Colab\"/></a>"
      ]
    },
    {
      "cell_type": "code",
      "metadata": {
        "id": "SJJdLfmIryea",
        "colab_type": "code",
        "colab": {
          "base_uri": "https://localhost:8080/",
          "height": 615
        },
        "outputId": "55592a0b-f5f7-4e8d-ddd9-6cccd56deb48"
      },
      "source": [
        "pip install tensorflow-gpu==2.0.0"
      ],
      "execution_count": 17,
      "outputs": [
        {
          "output_type": "stream",
          "text": [
            "Requirement already satisfied: tensorflow-gpu==2.0.0 in /usr/local/lib/python3.6/dist-packages (2.0.0)\n",
            "Requirement already satisfied: wheel>=0.26 in /usr/local/lib/python3.6/dist-packages (from tensorflow-gpu==2.0.0) (0.33.6)\n",
            "Requirement already satisfied: gast==0.2.2 in /usr/local/lib/python3.6/dist-packages (from tensorflow-gpu==2.0.0) (0.2.2)\n",
            "Requirement already satisfied: opt-einsum>=2.3.2 in /usr/local/lib/python3.6/dist-packages (from tensorflow-gpu==2.0.0) (3.1.0)\n",
            "Requirement already satisfied: absl-py>=0.7.0 in /usr/local/lib/python3.6/dist-packages (from tensorflow-gpu==2.0.0) (0.8.1)\n",
            "Requirement already satisfied: wrapt>=1.11.1 in /usr/local/lib/python3.6/dist-packages (from tensorflow-gpu==2.0.0) (1.11.2)\n",
            "Requirement already satisfied: keras-applications>=1.0.8 in /usr/local/lib/python3.6/dist-packages (from tensorflow-gpu==2.0.0) (1.0.8)\n",
            "Requirement already satisfied: grpcio>=1.8.6 in /usr/local/lib/python3.6/dist-packages (from tensorflow-gpu==2.0.0) (1.15.0)\n",
            "Requirement already satisfied: google-pasta>=0.1.6 in /usr/local/lib/python3.6/dist-packages (from tensorflow-gpu==2.0.0) (0.1.8)\n",
            "Requirement already satisfied: numpy<2.0,>=1.16.0 in /usr/local/lib/python3.6/dist-packages (from tensorflow-gpu==2.0.0) (1.17.4)\n",
            "Requirement already satisfied: termcolor>=1.1.0 in /usr/local/lib/python3.6/dist-packages (from tensorflow-gpu==2.0.0) (1.1.0)\n",
            "Requirement already satisfied: tensorflow-estimator<2.1.0,>=2.0.0 in /usr/local/lib/python3.6/dist-packages (from tensorflow-gpu==2.0.0) (2.0.1)\n",
            "Requirement already satisfied: astor>=0.6.0 in /usr/local/lib/python3.6/dist-packages (from tensorflow-gpu==2.0.0) (0.8.1)\n",
            "Requirement already satisfied: six>=1.10.0 in /usr/local/lib/python3.6/dist-packages (from tensorflow-gpu==2.0.0) (1.12.0)\n",
            "Requirement already satisfied: protobuf>=3.6.1 in /usr/local/lib/python3.6/dist-packages (from tensorflow-gpu==2.0.0) (3.10.0)\n",
            "Requirement already satisfied: keras-preprocessing>=1.0.5 in /usr/local/lib/python3.6/dist-packages (from tensorflow-gpu==2.0.0) (1.1.0)\n",
            "Requirement already satisfied: tensorboard<2.1.0,>=2.0.0 in /usr/local/lib/python3.6/dist-packages (from tensorflow-gpu==2.0.0) (2.0.2)\n",
            "Requirement already satisfied: h5py in /usr/local/lib/python3.6/dist-packages (from keras-applications>=1.0.8->tensorflow-gpu==2.0.0) (2.8.0)\n",
            "Requirement already satisfied: setuptools in /usr/local/lib/python3.6/dist-packages (from protobuf>=3.6.1->tensorflow-gpu==2.0.0) (42.0.2)\n",
            "Requirement already satisfied: werkzeug>=0.11.15 in /usr/local/lib/python3.6/dist-packages (from tensorboard<2.1.0,>=2.0.0->tensorflow-gpu==2.0.0) (0.16.0)\n",
            "Requirement already satisfied: google-auth-oauthlib<0.5,>=0.4.1 in /usr/local/lib/python3.6/dist-packages (from tensorboard<2.1.0,>=2.0.0->tensorflow-gpu==2.0.0) (0.4.1)\n",
            "Requirement already satisfied: requests<3,>=2.21.0 in /usr/local/lib/python3.6/dist-packages (from tensorboard<2.1.0,>=2.0.0->tensorflow-gpu==2.0.0) (2.21.0)\n",
            "Requirement already satisfied: markdown>=2.6.8 in /usr/local/lib/python3.6/dist-packages (from tensorboard<2.1.0,>=2.0.0->tensorflow-gpu==2.0.0) (3.1.1)\n",
            "Requirement already satisfied: google-auth<2,>=1.6.3 in /usr/local/lib/python3.6/dist-packages (from tensorboard<2.1.0,>=2.0.0->tensorflow-gpu==2.0.0) (1.10.0)\n",
            "Requirement already satisfied: requests-oauthlib>=0.7.0 in /usr/local/lib/python3.6/dist-packages (from google-auth-oauthlib<0.5,>=0.4.1->tensorboard<2.1.0,>=2.0.0->tensorflow-gpu==2.0.0) (1.3.0)\n",
            "Requirement already satisfied: chardet<3.1.0,>=3.0.2 in /usr/local/lib/python3.6/dist-packages (from requests<3,>=2.21.0->tensorboard<2.1.0,>=2.0.0->tensorflow-gpu==2.0.0) (3.0.4)\n",
            "Requirement already satisfied: certifi>=2017.4.17 in /usr/local/lib/python3.6/dist-packages (from requests<3,>=2.21.0->tensorboard<2.1.0,>=2.0.0->tensorflow-gpu==2.0.0) (2019.11.28)\n",
            "Requirement already satisfied: idna<2.9,>=2.5 in /usr/local/lib/python3.6/dist-packages (from requests<3,>=2.21.0->tensorboard<2.1.0,>=2.0.0->tensorflow-gpu==2.0.0) (2.8)\n",
            "Requirement already satisfied: urllib3<1.25,>=1.21.1 in /usr/local/lib/python3.6/dist-packages (from requests<3,>=2.21.0->tensorboard<2.1.0,>=2.0.0->tensorflow-gpu==2.0.0) (1.24.3)\n",
            "Requirement already satisfied: pyasn1-modules>=0.2.1 in /usr/local/lib/python3.6/dist-packages (from google-auth<2,>=1.6.3->tensorboard<2.1.0,>=2.0.0->tensorflow-gpu==2.0.0) (0.2.7)\n",
            "Requirement already satisfied: rsa<4.1,>=3.1.4 in /usr/local/lib/python3.6/dist-packages (from google-auth<2,>=1.6.3->tensorboard<2.1.0,>=2.0.0->tensorflow-gpu==2.0.0) (4.0)\n",
            "Requirement already satisfied: cachetools<5.0,>=2.0.0 in /usr/local/lib/python3.6/dist-packages (from google-auth<2,>=1.6.3->tensorboard<2.1.0,>=2.0.0->tensorflow-gpu==2.0.0) (3.1.1)\n",
            "Requirement already satisfied: oauthlib>=3.0.0 in /usr/local/lib/python3.6/dist-packages (from requests-oauthlib>=0.7.0->google-auth-oauthlib<0.5,>=0.4.1->tensorboard<2.1.0,>=2.0.0->tensorflow-gpu==2.0.0) (3.1.0)\n",
            "Requirement already satisfied: pyasn1<0.5.0,>=0.4.6 in /usr/local/lib/python3.6/dist-packages (from pyasn1-modules>=0.2.1->google-auth<2,>=1.6.3->tensorboard<2.1.0,>=2.0.0->tensorflow-gpu==2.0.0) (0.4.8)\n"
          ],
          "name": "stdout"
        }
      ]
    },
    {
      "cell_type": "code",
      "metadata": {
        "id": "Zn9Yda456pAC",
        "colab_type": "code",
        "outputId": "65b89df8-2f9f-4e66-ca8c-93c8a1055db6",
        "colab": {
          "base_uri": "https://localhost:8080/",
          "height": 136
        }
      },
      "source": [
        "!git clone https://github.com/LotanLevy/NN_Visualization"
      ],
      "execution_count": 18,
      "outputs": [
        {
          "output_type": "stream",
          "text": [
            "Cloning into 'NN_Visualization'...\n",
            "remote: Enumerating objects: 83, done.\u001b[K\n",
            "remote: Counting objects:   1% (1/83)\u001b[K\rremote: Counting objects:   2% (2/83)\u001b[K\rremote: Counting objects:   3% (3/83)\u001b[K\rremote: Counting objects:   4% (4/83)\u001b[K\rremote: Counting objects:   6% (5/83)\u001b[K\rremote: Counting objects:   7% (6/83)\u001b[K\rremote: Counting objects:   8% (7/83)\u001b[K\rremote: Counting objects:   9% (8/83)\u001b[K\rremote: Counting objects:  10% (9/83)\u001b[K\rremote: Counting objects:  12% (10/83)\u001b[K\rremote: Counting objects:  13% (11/83)\u001b[K\rremote: Counting objects:  14% (12/83)\u001b[K\rremote: Counting objects:  15% (13/83)\u001b[K\rremote: Counting objects:  16% (14/83)\u001b[K\rremote: Counting objects:  18% (15/83)\u001b[K\rremote: Counting objects:  19% (16/83)\u001b[K\rremote: Counting objects:  20% (17/83)\u001b[K\rremote: Counting objects:  21% (18/83)\u001b[K\rremote: Counting objects:  22% (19/83)\u001b[K\rremote: Counting objects:  24% (20/83)\u001b[K\rremote: Counting objects:  25% (21/83)\u001b[K\rremote: Counting objects:  26% (22/83)\u001b[K\rremote: Counting objects:  27% (23/83)\u001b[K\rremote: Counting objects:  28% (24/83)\u001b[K\rremote: Counting objects:  30% (25/83)\u001b[K\rremote: Counting objects:  31% (26/83)\u001b[K\rremote: Counting objects:  32% (27/83)\u001b[K\rremote: Counting objects:  33% (28/83)\u001b[K\rremote: Counting objects:  34% (29/83)\u001b[K\rremote: Counting objects:  36% (30/83)\u001b[K\rremote: Counting objects:  37% (31/83)\u001b[K\rremote: Counting objects:  38% (32/83)\u001b[K\rremote: Counting objects:  39% (33/83)\u001b[K\rremote: Counting objects:  40% (34/83)\u001b[K\rremote: Counting objects:  42% (35/83)\u001b[K\rremote: Counting objects:  43% (36/83)\u001b[K\rremote: Counting objects:  44% (37/83)\u001b[K\rremote: Counting objects:  45% (38/83)\u001b[K\rremote: Counting objects:  46% (39/83)\u001b[K\rremote: Counting objects:  48% (40/83)\u001b[K\rremote: Counting objects:  49% (41/83)\u001b[K\rremote: Counting objects:  50% (42/83)\u001b[K\rremote: Counting objects:  51% (43/83)\u001b[K\rremote: Counting objects:  53% (44/83)\u001b[K\rremote: Counting objects:  54% (45/83)\u001b[K\rremote: Counting objects:  55% (46/83)\u001b[K\rremote: Counting objects:  56% (47/83)\u001b[K\rremote: Counting objects:  57% (48/83)\u001b[K\rremote: Counting objects:  59% (49/83)\u001b[K\rremote: Counting objects:  60% (50/83)\u001b[K\rremote: Counting objects:  61% (51/83)\u001b[K\rremote: Counting objects:  62% (52/83)\u001b[K\rremote: Counting objects:  63% (53/83)\u001b[K\rremote: Counting objects:  65% (54/83)\u001b[K\rremote: Counting objects:  66% (55/83)\u001b[K\rremote: Counting objects:  67% (56/83)\u001b[K\rremote: Counting objects:  68% (57/83)\u001b[K\rremote: Counting objects:  69% (58/83)\u001b[K\rremote: Counting objects:  71% (59/83)\u001b[K\rremote: Counting objects:  72% (60/83)\u001b[K\rremote: Counting objects:  73% (61/83)\u001b[K\rremote: Counting objects:  74% (62/83)\u001b[K\rremote: Counting objects:  75% (63/83)\u001b[K\rremote: Counting objects:  77% (64/83)\u001b[K\rremote: Counting objects:  78% (65/83)\u001b[K\rremote: Counting objects:  79% (66/83)\u001b[K\rremote: Counting objects:  80% (67/83)\u001b[K\rremote: Counting objects:  81% (68/83)\u001b[K\rremote: Counting objects:  83% (69/83)\u001b[K\rremote: Counting objects:  84% (70/83)\u001b[K\rremote: Counting objects:  85% (71/83)\u001b[K\rremote: Counting objects:  86% (72/83)\u001b[K\rremote: Counting objects:  87% (73/83)\u001b[K\rremote: Counting objects:  89% (74/83)\u001b[K\rremote: Counting objects:  90% (75/83)\u001b[K\rremote: Counting objects:  91% (76/83)\u001b[K\rremote: Counting objects:  92% (77/83)\u001b[K\rremote: Counting objects:  93% (78/83)\u001b[K\rremote: Counting objects:  95% (79/83)\u001b[K\rremote: Counting objects:  96% (80/83)\u001b[K\rremote: Counting objects:  97% (81/83)\u001b[K\rremote: Counting objects:  98% (82/83)\u001b[K\rremote: Counting objects: 100% (83/83)\u001b[K\rremote: Counting objects: 100% (83/83), done.\u001b[K\n",
            "remote: Compressing objects:   1% (1/57)\u001b[K\rremote: Compressing objects:   3% (2/57)\u001b[K\rremote: Compressing objects:   5% (3/57)\u001b[K\rremote: Compressing objects:   7% (4/57)\u001b[K\rremote: Compressing objects:   8% (5/57)\u001b[K\rremote: Compressing objects:  10% (6/57)\u001b[K\rremote: Compressing objects:  12% (7/57)\u001b[K\rremote: Compressing objects:  14% (8/57)\u001b[K\rremote: Compressing objects:  15% (9/57)\u001b[K\rremote: Compressing objects:  17% (10/57)\u001b[K\rremote: Compressing objects:  19% (11/57)\u001b[K\rremote: Compressing objects:  21% (12/57)\u001b[K\rremote: Compressing objects:  22% (13/57)\u001b[K\rremote: Compressing objects:  24% (14/57)\u001b[K\rremote: Compressing objects:  26% (15/57)\u001b[K\rremote: Compressing objects:  28% (16/57)\u001b[K\rremote: Compressing objects:  29% (17/57)\u001b[K\rremote: Compressing objects:  31% (18/57)\u001b[K\rremote: Compressing objects:  33% (19/57)\u001b[K\rremote: Compressing objects:  35% (20/57)\u001b[K\rremote: Compressing objects:  36% (21/57)\u001b[K\rremote: Compressing objects:  38% (22/57)\u001b[K\rremote: Compressing objects:  40% (23/57)\u001b[K\rremote: Compressing objects:  42% (24/57)\u001b[K\rremote: Compressing objects:  43% (25/57)\u001b[K\rremote: Compressing objects:  45% (26/57)\u001b[K\rremote: Compressing objects:  47% (27/57)\u001b[K\rremote: Compressing objects:  49% (28/57)\u001b[K\rremote: Compressing objects:  50% (29/57)\u001b[K\rremote: Compressing objects:  52% (30/57)\u001b[K\rremote: Compressing objects:  54% (31/57)\u001b[K\rremote: Compressing objects:  56% (32/57)\u001b[K\rremote: Compressing objects:  57% (33/57)\u001b[K\rremote: Compressing objects:  59% (34/57)\u001b[K\rremote: Compressing objects:  61% (35/57)\u001b[K\rremote: Compressing objects:  63% (36/57)\u001b[K\rremote: Compressing objects:  64% (37/57)\u001b[K\rremote: Compressing objects:  66% (38/57)\u001b[K\rremote: Compressing objects:  68% (39/57)\u001b[K\rremote: Compressing objects:  70% (40/57)\u001b[K\rremote: Compressing objects:  71% (41/57)\u001b[K\rremote: Compressing objects:  73% (42/57)\u001b[K\rremote: Compressing objects:  75% (43/57)\u001b[K\rremote: Compressing objects:  77% (44/57)\u001b[K\rremote: Compressing objects:  78% (45/57)\u001b[K\rremote: Compressing objects:  80% (46/57)\u001b[K\rremote: Compressing objects:  82% (47/57)\u001b[K\rremote: Compressing objects:  84% (48/57)\u001b[K\rremote: Compressing objects:  85% (49/57)\u001b[K\rremote: Compressing objects:  87% (50/57)\u001b[K\rremote: Compressing objects:  89% (51/57)\u001b[K\rremote: Compressing objects:  91% (52/57)\u001b[K\rremote: Compressing objects:  92% (53/57)\u001b[K\rremote: Compressing objects:  94% (54/57)\u001b[K\rremote: Compressing objects:  96% (55/57)\u001b[K\rremote: Compressing objects:  98% (56/57)\u001b[K\rremote: Compressing objects: 100% (57/57)\u001b[K\rremote: Compressing objects: 100% (57/57), done.\u001b[K\n",
            "Receiving objects:   0% (1/310)   \rReceiving objects:   1% (4/310)   \rReceiving objects:   2% (7/310)   \rReceiving objects:   3% (10/310)   \rReceiving objects:   4% (13/310)   \rReceiving objects:   5% (16/310)   \rReceiving objects:   6% (19/310)   \rReceiving objects:   7% (22/310)   \rReceiving objects:   8% (25/310)   \rReceiving objects:   9% (28/310)   \rReceiving objects:  10% (31/310)   \rReceiving objects:  11% (35/310)   \rReceiving objects:  12% (38/310)   \rReceiving objects:  13% (41/310)   \rReceiving objects:  14% (44/310)   \rReceiving objects:  15% (47/310)   \rReceiving objects:  16% (50/310)   \rReceiving objects:  17% (53/310)   \rReceiving objects:  18% (56/310)   \rReceiving objects:  19% (59/310)   \rReceiving objects:  20% (62/310)   \rReceiving objects:  21% (66/310)   \rReceiving objects:  22% (69/310)   \rReceiving objects:  23% (72/310)   \rReceiving objects:  24% (75/310)   \rReceiving objects:  25% (78/310)   \rReceiving objects:  26% (81/310)   \rReceiving objects:  27% (84/310)   \rReceiving objects:  28% (87/310)   \rremote: Total 310 (delta 41), reused 66 (delta 26), pack-reused 227\u001b[K\n",
            "Receiving objects:  29% (90/310)   \rReceiving objects:  30% (93/310)   \rReceiving objects:  31% (97/310)   \rReceiving objects:  32% (100/310)   \rReceiving objects:  33% (103/310)   \rReceiving objects:  34% (106/310)   \rReceiving objects:  35% (109/310)   \rReceiving objects:  36% (112/310)   \rReceiving objects:  37% (115/310)   \rReceiving objects:  38% (118/310)   \rReceiving objects:  39% (121/310)   \rReceiving objects:  40% (124/310)   \rReceiving objects:  41% (128/310)   \rReceiving objects:  42% (131/310)   \rReceiving objects:  43% (134/310)   \rReceiving objects:  44% (137/310)   \rReceiving objects:  45% (140/310)   \rReceiving objects:  46% (143/310)   \rReceiving objects:  47% (146/310)   \rReceiving objects:  48% (149/310)   \rReceiving objects:  49% (152/310)   \rReceiving objects:  50% (155/310)   \rReceiving objects:  51% (159/310)   \rReceiving objects:  52% (162/310)   \rReceiving objects:  53% (165/310)   \rReceiving objects:  54% (168/310)   \rReceiving objects:  55% (171/310)   \rReceiving objects:  56% (174/310)   \rReceiving objects:  57% (177/310)   \rReceiving objects:  58% (180/310)   \rReceiving objects:  59% (183/310)   \rReceiving objects:  60% (186/310)   \rReceiving objects:  61% (190/310)   \rReceiving objects:  62% (193/310)   \rReceiving objects:  63% (196/310)   \rReceiving objects:  64% (199/310)   \rReceiving objects:  65% (202/310)   \rReceiving objects:  66% (205/310)   \rReceiving objects:  67% (208/310)   \rReceiving objects:  68% (211/310)   \rReceiving objects:  69% (214/310)   \rReceiving objects:  70% (217/310)   \rReceiving objects:  71% (221/310)   \rReceiving objects:  72% (224/310)   \rReceiving objects:  73% (227/310)   \rReceiving objects:  74% (230/310)   \rReceiving objects:  75% (233/310)   \rReceiving objects:  76% (236/310)   \rReceiving objects:  77% (239/310)   \rReceiving objects:  78% (242/310)   \rReceiving objects:  79% (245/310)   \rReceiving objects:  80% (248/310)   \rReceiving objects:  81% (252/310)   \rReceiving objects:  82% (255/310)   \rReceiving objects:  83% (258/310)   \rReceiving objects:  84% (261/310)   \rReceiving objects:  85% (264/310)   \rReceiving objects:  86% (267/310)   \rReceiving objects:  87% (270/310)   \rReceiving objects:  88% (273/310)   \rReceiving objects:  89% (276/310)   \rReceiving objects:  90% (279/310)   \rReceiving objects:  91% (283/310)   \rReceiving objects:  92% (286/310)   \rReceiving objects:  93% (289/310)   \rReceiving objects:  94% (292/310)   \rReceiving objects:  95% (295/310)   \rReceiving objects:  96% (298/310)   \rReceiving objects:  97% (301/310)   \rReceiving objects:  98% (304/310)   \rReceiving objects:  99% (307/310)   \rReceiving objects: 100% (310/310)   \rReceiving objects: 100% (310/310), 383.13 KiB | 15.32 MiB/s, done.\n",
            "Resolving deltas:   0% (0/176)   \rResolving deltas:   1% (3/176)   \rResolving deltas:   2% (4/176)   \rResolving deltas:  36% (64/176)   \rResolving deltas:  37% (66/176)   \rResolving deltas:  39% (70/176)   \rResolving deltas:  40% (71/176)   \rResolving deltas:  42% (75/176)   \rResolving deltas:  48% (86/176)   \rResolving deltas:  64% (113/176)   \rResolving deltas:  67% (118/176)   \rResolving deltas:  82% (146/176)   \rResolving deltas:  95% (168/176)   \rResolving deltas:  97% (171/176)   \rResolving deltas:  98% (173/176)   \rResolving deltas: 100% (176/176)   \rResolving deltas: 100% (176/176), done.\n"
          ],
          "name": "stdout"
        }
      ]
    },
    {
      "cell_type": "code",
      "metadata": {
        "id": "a21gobG-4Yvs",
        "colab_type": "code",
        "outputId": "01740e21-9c01-47bc-ec95-bba252b652f4",
        "colab": {
          "base_uri": "https://localhost:8080/",
          "height": 34
        }
      },
      "source": [
        "cd NN_Visualization/"
      ],
      "execution_count": 19,
      "outputs": [
        {
          "output_type": "stream",
          "text": [
            "/content/NN_Visualization/NN_Visualization\n"
          ],
          "name": "stdout"
        }
      ]
    },
    {
      "cell_type": "code",
      "metadata": {
        "id": "GTWe9SLC4bs0",
        "colab_type": "code",
        "colab": {
          "base_uri": "https://localhost:8080/",
          "height": 238
        },
        "outputId": "1b615d3e-726d-497a-83e2-b33632017133"
      },
      "source": [
        "!git pull\n",
        "from google.colab import drive\n",
        "drive.mount('/content/drive')\n",
        "WEIGHTS_PATH = \"/content/drive/My Drive/Colab Notebooks/weights\""
      ],
      "execution_count": 29,
      "outputs": [
        {
          "output_type": "stream",
          "text": [
            "remote: Enumerating objects: 9, done.\u001b[K\n",
            "remote: Counting objects:  11% (1/9)\u001b[K\rremote: Counting objects:  22% (2/9)\u001b[K\rremote: Counting objects:  33% (3/9)\u001b[K\rremote: Counting objects:  44% (4/9)\u001b[K\rremote: Counting objects:  55% (5/9)\u001b[K\rremote: Counting objects:  66% (6/9)\u001b[K\rremote: Counting objects:  77% (7/9)\u001b[K\rremote: Counting objects:  88% (8/9)\u001b[K\rremote: Counting objects: 100% (9/9)\u001b[K\rremote: Counting objects: 100% (9/9), done.\u001b[K\n",
            "remote: Compressing objects:  50% (1/2)\u001b[K\rremote: Compressing objects: 100% (2/2)\u001b[K\rremote: Compressing objects: 100% (2/2), done.\u001b[K\n",
            "remote: Total 5 (delta 3), reused 5 (delta 3), pack-reused 0\u001b[K\n",
            "Unpacking objects:  20% (1/5)   \rUnpacking objects:  40% (2/5)   \rUnpacking objects:  60% (3/5)   \rUnpacking objects:  80% (4/5)   \rUnpacking objects: 100% (5/5)   \rUnpacking objects: 100% (5/5), done.\n",
            "From https://github.com/LotanLevy/NN_Visualization\n",
            "   d49d6c7..7b46923  master     -> origin/master\n",
            "Updating d49d6c7..7b46923\n",
            "Fast-forward\n",
            " Networks/Alexnet.py | 2 \u001b[31m--\u001b[m\n",
            " train_test.py       | 1 \u001b[31m-\u001b[m\n",
            " 2 files changed, 3 deletions(-)\n",
            "Drive already mounted at /content/drive; to attempt to forcibly remount, call drive.mount(\"/content/drive\", force_remount=True).\n"
          ],
          "name": "stdout"
        }
      ]
    },
    {
      "cell_type": "code",
      "metadata": {
        "id": "OHIQAfUh5iaP",
        "colab_type": "code",
        "colab": {
          "base_uri": "https://localhost:8080/",
          "height": 1000
        },
        "outputId": "465eb90e-94f0-4b21-fe77-0348b2476b62"
      },
      "source": [
        "!python ex2.py --ckpt_path=\"/content/drive/My Drive/Colab Notebooks/weights\" --max_iter=200000 --image_path=\"/content/drive/My Drive/Colab Notebooks\" -pf=5000 -nl=20 -pv=400 --reg_factor=0.2 -ni=130"
      ],
      "execution_count": 30,
      "outputs": [
        {
          "output_type": "stream",
          "text": [
            "running:  Namespace(ckpt_path='/content/drive/My Drive/Colab Notebooks/weights', crop_size=224, image_path='/content/drive/My Drive/Colab Notebooks', max_iter=200000, max_pred_value=400.0, neuron_idx_list=[130], neuron_layer_idx=20, nntype='Alexnet', optimizer='adam', orig_image_path=None, print_freq=5000, reg_factor=0.2, reg_type='Basic')\n",
            "2019-12-19 16:02:26.519779: I tensorflow/stream_executor/platform/default/dso_loader.cc:44] Successfully opened dynamic library libcuda.so.1\n",
            "2019-12-19 16:02:26.533682: I tensorflow/stream_executor/cuda/cuda_gpu_executor.cc:1006] successful NUMA node read from SysFS had negative value (-1), but there must be at least one NUMA node, so returning NUMA node zero\n",
            "2019-12-19 16:02:26.534244: I tensorflow/core/common_runtime/gpu/gpu_device.cc:1618] Found device 0 with properties: \n",
            "name: Tesla P100-PCIE-16GB major: 6 minor: 0 memoryClockRate(GHz): 1.3285\n",
            "pciBusID: 0000:00:04.0\n",
            "2019-12-19 16:02:26.534471: I tensorflow/stream_executor/platform/default/dso_loader.cc:44] Successfully opened dynamic library libcudart.so.10.0\n",
            "2019-12-19 16:02:26.535445: I tensorflow/stream_executor/platform/default/dso_loader.cc:44] Successfully opened dynamic library libcublas.so.10.0\n",
            "2019-12-19 16:02:26.536391: I tensorflow/stream_executor/platform/default/dso_loader.cc:44] Successfully opened dynamic library libcufft.so.10.0\n",
            "2019-12-19 16:02:26.536674: I tensorflow/stream_executor/platform/default/dso_loader.cc:44] Successfully opened dynamic library libcurand.so.10.0\n",
            "2019-12-19 16:02:26.538000: I tensorflow/stream_executor/platform/default/dso_loader.cc:44] Successfully opened dynamic library libcusolver.so.10.0\n",
            "2019-12-19 16:02:26.539159: I tensorflow/stream_executor/platform/default/dso_loader.cc:44] Successfully opened dynamic library libcusparse.so.10.0\n",
            "2019-12-19 16:02:26.542711: I tensorflow/stream_executor/platform/default/dso_loader.cc:44] Successfully opened dynamic library libcudnn.so.7\n",
            "2019-12-19 16:02:26.542805: I tensorflow/stream_executor/cuda/cuda_gpu_executor.cc:1006] successful NUMA node read from SysFS had negative value (-1), but there must be at least one NUMA node, so returning NUMA node zero\n",
            "2019-12-19 16:02:26.543346: I tensorflow/stream_executor/cuda/cuda_gpu_executor.cc:1006] successful NUMA node read from SysFS had negative value (-1), but there must be at least one NUMA node, so returning NUMA node zero\n",
            "2019-12-19 16:02:26.543841: I tensorflow/core/common_runtime/gpu/gpu_device.cc:1746] Adding visible gpu devices: 0\n",
            "2019-12-19 16:02:26.544110: I tensorflow/core/platform/cpu_feature_guard.cc:142] Your CPU supports instructions that this TensorFlow binary was not compiled to use: AVX2 FMA\n",
            "2019-12-19 16:02:26.548721: I tensorflow/core/platform/profile_utils/cpu_utils.cc:94] CPU Frequency: 2200000000 Hz\n",
            "2019-12-19 16:02:26.548886: I tensorflow/compiler/xla/service/service.cc:168] XLA service 0x1e64f40 executing computations on platform Host. Devices:\n",
            "2019-12-19 16:02:26.548912: I tensorflow/compiler/xla/service/service.cc:175]   StreamExecutor device (0): Host, Default Version\n",
            "2019-12-19 16:02:26.640075: I tensorflow/stream_executor/cuda/cuda_gpu_executor.cc:1006] successful NUMA node read from SysFS had negative value (-1), but there must be at least one NUMA node, so returning NUMA node zero\n",
            "2019-12-19 16:02:26.640744: I tensorflow/compiler/xla/service/service.cc:168] XLA service 0x1e65100 executing computations on platform CUDA. Devices:\n",
            "2019-12-19 16:02:26.640775: I tensorflow/compiler/xla/service/service.cc:175]   StreamExecutor device (0): Tesla P100-PCIE-16GB, Compute Capability 6.0\n",
            "2019-12-19 16:02:26.640924: I tensorflow/stream_executor/cuda/cuda_gpu_executor.cc:1006] successful NUMA node read from SysFS had negative value (-1), but there must be at least one NUMA node, so returning NUMA node zero\n",
            "2019-12-19 16:02:26.641459: I tensorflow/core/common_runtime/gpu/gpu_device.cc:1618] Found device 0 with properties: \n",
            "name: Tesla P100-PCIE-16GB major: 6 minor: 0 memoryClockRate(GHz): 1.3285\n",
            "pciBusID: 0000:00:04.0\n",
            "2019-12-19 16:02:26.641523: I tensorflow/stream_executor/platform/default/dso_loader.cc:44] Successfully opened dynamic library libcudart.so.10.0\n",
            "2019-12-19 16:02:26.641538: I tensorflow/stream_executor/platform/default/dso_loader.cc:44] Successfully opened dynamic library libcublas.so.10.0\n",
            "2019-12-19 16:02:26.641551: I tensorflow/stream_executor/platform/default/dso_loader.cc:44] Successfully opened dynamic library libcufft.so.10.0\n",
            "2019-12-19 16:02:26.641564: I tensorflow/stream_executor/platform/default/dso_loader.cc:44] Successfully opened dynamic library libcurand.so.10.0\n",
            "2019-12-19 16:02:26.641575: I tensorflow/stream_executor/platform/default/dso_loader.cc:44] Successfully opened dynamic library libcusolver.so.10.0\n",
            "2019-12-19 16:02:26.641588: I tensorflow/stream_executor/platform/default/dso_loader.cc:44] Successfully opened dynamic library libcusparse.so.10.0\n",
            "2019-12-19 16:02:26.641601: I tensorflow/stream_executor/platform/default/dso_loader.cc:44] Successfully opened dynamic library libcudnn.so.7\n",
            "2019-12-19 16:02:26.641656: I tensorflow/stream_executor/cuda/cuda_gpu_executor.cc:1006] successful NUMA node read from SysFS had negative value (-1), but there must be at least one NUMA node, so returning NUMA node zero\n",
            "2019-12-19 16:02:26.642252: I tensorflow/stream_executor/cuda/cuda_gpu_executor.cc:1006] successful NUMA node read from SysFS had negative value (-1), but there must be at least one NUMA node, so returning NUMA node zero\n",
            "2019-12-19 16:02:26.642717: I tensorflow/core/common_runtime/gpu/gpu_device.cc:1746] Adding visible gpu devices: 0\n",
            "2019-12-19 16:02:26.642767: I tensorflow/stream_executor/platform/default/dso_loader.cc:44] Successfully opened dynamic library libcudart.so.10.0\n",
            "2019-12-19 16:02:26.643752: I tensorflow/core/common_runtime/gpu/gpu_device.cc:1159] Device interconnect StreamExecutor with strength 1 edge matrix:\n",
            "2019-12-19 16:02:26.643798: I tensorflow/core/common_runtime/gpu/gpu_device.cc:1165]      0 \n",
            "2019-12-19 16:02:26.643808: I tensorflow/core/common_runtime/gpu/gpu_device.cc:1178] 0:   N \n",
            "2019-12-19 16:02:26.643900: I tensorflow/stream_executor/cuda/cuda_gpu_executor.cc:1006] successful NUMA node read from SysFS had negative value (-1), but there must be at least one NUMA node, so returning NUMA node zero\n",
            "2019-12-19 16:02:26.644477: I tensorflow/stream_executor/cuda/cuda_gpu_executor.cc:1006] successful NUMA node read from SysFS had negative value (-1), but there must be at least one NUMA node, so returning NUMA node zero\n",
            "2019-12-19 16:02:26.645017: W tensorflow/core/common_runtime/gpu/gpu_bfc_allocator.cc:39] Overriding allow_growth setting because the TF_FORCE_GPU_ALLOW_GROWTH environment variable is set. Original config value was 0.\n",
            "2019-12-19 16:02:26.645056: I tensorflow/core/common_runtime/gpu/gpu_device.cc:1304] Created TensorFlow device (/job:localhost/replica:0/task:0/device:GPU:0 with 15216 MB memory) -> physical GPU (device: 0, name: Tesla P100-PCIE-16GB, pci bus id: 0000:00:04.0, compute capability: 6.0)\n",
            "2019-12-19 16:02:27.264600: I tensorflow/stream_executor/platform/default/dso_loader.cc:44] Successfully opened dynamic library libcudnn.so.7\n",
            "2019-12-19 16:02:28.357201: I tensorflow/stream_executor/platform/default/dso_loader.cc:44] Successfully opened dynamic library libcublas.so.10.0\n",
            "loss after 5001 iterations: 989.9360961914062, prediction -1.0819014310836792\n",
            "loss after 10001 iterations: 932.7271728515625, prediction -0.030617650598287582\n",
            "loss after 15001 iterations: 877.8391723632812, prediction 2.2533226013183594\n",
            "loss after 20001 iterations: 825.06982421875, prediction 5.823342800140381\n",
            "loss after 25001 iterations: 774.7498168945312, prediction 9.964957237243652\n",
            "loss after 30001 iterations: 726.9437866210938, prediction 14.389191627502441\n",
            "loss after 35001 iterations: 681.5785522460938, prediction 19.041851043701172\n",
            "loss after 40001 iterations: 638.3427734375, prediction 24.222593307495117\n",
            "loss after 45001 iterations: 597.1126708984375, prediction 29.965669631958008\n",
            "loss after 50001 iterations: 557.7346801757812, prediction 36.349143981933594\n",
            "loss after 55001 iterations: 520.1633911132812, prediction 43.289859771728516\n",
            "loss after 60001 iterations: 484.5083923339844, prediction 50.52318572998047\n",
            "loss after 65001 iterations: 450.7659912109375, prediction 57.8809928894043\n",
            "loss after 70001 iterations: 418.85552978515625, prediction 65.31478881835938\n",
            "loss after 75001 iterations: 388.71759033203125, prediction 72.76463317871094\n",
            "loss after 80001 iterations: 360.3349609375, prediction 80.1134262084961\n",
            "loss after 85001 iterations: 333.7309875488281, prediction 87.21170043945312\n",
            "loss after 90001 iterations: 308.8692321777344, prediction 93.99349975585938\n",
            "loss after 95001 iterations: 285.67083740234375, prediction 100.42969512939453\n",
            "loss after 100001 iterations: 264.02325439453125, prediction 106.53907012939453\n",
            "loss after 105001 iterations: 243.8070526123047, prediction 112.3432388305664\n",
            "loss after 110001 iterations: 224.9200897216797, prediction 117.85812377929688\n",
            "loss after 115001 iterations: 207.25592041015625, prediction 123.10641479492188\n",
            "loss after 120001 iterations: 190.7196502685547, prediction 128.11178588867188\n",
            "loss after 125001 iterations: 175.23391723632812, prediction 132.87620544433594\n",
            "loss after 130001 iterations: 160.72430419921875, prediction 137.4061737060547\n",
            "loss after 135001 iterations: 147.117431640625, prediction 141.70663452148438\n",
            "loss after 140001 iterations: 134.3369598388672, prediction 145.80564880371094\n",
            "loss after 145001 iterations: 122.32820892333984, prediction 149.6985321044922\n",
            "loss after 150001 iterations: 111.02115631103516, prediction 153.4031524658203\n",
            "loss after 155001 iterations: 100.36687469482422, prediction 156.93136596679688\n",
            "loss after 160001 iterations: 90.30831146240234, prediction 160.29269409179688\n",
            "loss after 165001 iterations: 80.80036926269531, prediction 163.49594116210938\n",
            "loss after 170001 iterations: 71.80357360839844, prediction 166.56553649902344\n",
            "loss after 175001 iterations: 63.27866744995117, prediction 169.49026489257812\n",
            "loss after 180001 iterations: 55.18147659301758, prediction 172.28514099121094\n",
            "loss after 185001 iterations: 47.48533630371094, prediction 174.98013305664062\n",
            "loss after 190001 iterations: 40.16189956665039, prediction 177.55075073242188\n",
            "loss after 195001 iterations: 33.183990478515625, prediction 180.0352783203125\n",
            "loss after 200001 iterations: 26.52783966064453, prediction 182.4344024658203\n",
            "Training is stop after 200000 iterations\n",
            "End process\n"
          ],
          "name": "stdout"
        }
      ]
    }
  ]
}